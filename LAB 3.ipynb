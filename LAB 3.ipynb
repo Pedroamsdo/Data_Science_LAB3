{
 "cells": [
  {
   "cell_type": "markdown",
   "source": [
    "# Lab. 3 - Aprendizado de Máquina Probabilístico\n",
    "### André Luiz de Melo Thiessen\n",
    "### Níkollas da Silva Antes\n",
    "### Pedro Anacleto Martins Senna de Oliveira"
   ],
   "metadata": {
    "collapsed": false,
    "pycharm": {
     "name": "#%% md\n"
    }
   }
  },
  {
   "cell_type": "markdown",
   "source": [
    "### Importando Bibliotecas"
   ],
   "metadata": {
    "collapsed": false,
    "pycharm": {
     "name": "#%% md\n"
    }
   }
  },
  {
   "cell_type": "code",
   "execution_count": 3,
   "outputs": [],
   "source": [
    "import pandas as pd\n",
    "from sklearn.preprocessing import LabelEncoder\n",
    "from sklearn.naive_bayes import GaussianNB"
   ],
   "metadata": {
    "collapsed": false,
    "pycharm": {
     "name": "#%%\n"
    }
   }
  },
  {
   "cell_type": "markdown",
   "source": [
    "### Importando Dados"
   ],
   "metadata": {
    "collapsed": false,
    "pycharm": {
     "name": "#%% md\n"
    }
   }
  },
  {
   "cell_type": "code",
   "execution_count": 4,
   "outputs": [],
   "source": [
    "respostas=pd.read_csv('republican_democrat.csv',on_bad_lines='skip',sep=',')\n",
    "teste=pd.read_csv('republican_democrat_test.csv',on_bad_lines='skip',sep=',')"
   ],
   "metadata": {
    "collapsed": false,
    "pycharm": {
     "name": "#%%\n"
    }
   }
  },
  {
   "cell_type": "markdown",
   "source": [
    "### Modelo Probabilístico"
   ],
   "metadata": {
    "collapsed": false,
    "pycharm": {
     "name": "#%% md\n"
    }
   }
  },
  {
   "cell_type": "code",
   "execution_count": 5,
   "outputs": [],
   "source": [
    "x_respostas = respostas.iloc[:, 0:14].values\n",
    "#x_respostas"
   ],
   "metadata": {
    "collapsed": false,
    "pycharm": {
     "name": "#%%\n"
    }
   }
  },
  {
   "cell_type": "code",
   "execution_count": 6,
   "outputs": [],
   "source": [
    "x_teste = teste.iloc[:, 0:14].values\n",
    "#x_teste"
   ],
   "metadata": {
    "collapsed": false,
    "pycharm": {
     "name": "#%%\n"
    }
   }
  },
  {
   "cell_type": "code",
   "execution_count": 7,
   "outputs": [],
   "source": [
    "y_respostas = respostas.iloc[:, 14]\n",
    "#y_respostas"
   ],
   "metadata": {
    "collapsed": false,
    "pycharm": {
     "name": "#%%\n"
    }
   }
  },
  {
   "cell_type": "code",
   "execution_count": 8,
   "outputs": [],
   "source": [
    "label_encoder_handicapped = LabelEncoder()\n",
    "label_encoder_water = LabelEncoder()\n",
    "label_encoder_adoption = LabelEncoder()\n",
    "label_encoder_physician = LabelEncoder()\n",
    "label_encoder_religious = LabelEncoder()\n",
    "label_encoder_anti = LabelEncoder()\n",
    "label_encoder_mx = LabelEncoder()\n",
    "label_encoder_immigration = LabelEncoder()\n",
    "label_encoder_synfuels = LabelEncoder()\n",
    "label_encoder_education = LabelEncoder()\n",
    "label_encoder_superfund = LabelEncoder()\n",
    "label_encoder_crime = LabelEncoder()\n",
    "label_encoder_duty = LabelEncoder()\n",
    "label_encoder_export = LabelEncoder()"
   ],
   "metadata": {
    "collapsed": false,
    "pycharm": {
     "name": "#%%\n"
    }
   }
  },
  {
   "cell_type": "code",
   "execution_count": 9,
   "outputs": [],
   "source": [
    "x_respostas[:, 0] = label_encoder_handicapped.fit_transform(x_respostas[:, 0])\n",
    "x_respostas[:, 1] = label_encoder_water.fit_transform(x_respostas[:, 1])\n",
    "x_respostas[:, 2] = label_encoder_adoption.fit_transform(x_respostas[:, 2])\n",
    "x_respostas[:, 3] = label_encoder_physician.fit_transform(x_respostas[:, 3])\n",
    "x_respostas[:, 4] = label_encoder_religious.fit_transform(x_respostas[:, 4])\n",
    "x_respostas[:, 5] = label_encoder_anti.fit_transform(x_respostas[:, 5])\n",
    "x_respostas[:, 6] = label_encoder_mx.fit_transform(x_respostas[:, 6])\n",
    "x_respostas[:, 7] = label_encoder_immigration.fit_transform(x_respostas[:, 7])\n",
    "x_respostas[:, 8] = label_encoder_synfuels.fit_transform(x_respostas[:, 8])\n",
    "x_respostas[:, 9] = label_encoder_education.fit_transform(x_respostas[:, 9])\n",
    "x_respostas[:, 10] = label_encoder_superfund.fit_transform(x_respostas[:, 10])\n",
    "x_respostas[:, 11] = label_encoder_crime.fit_transform(x_respostas[:, 11])\n",
    "x_respostas[:, 12] = label_encoder_duty.fit_transform(x_respostas[:, 12])\n",
    "x_respostas[:, 13] = label_encoder_export.fit_transform(x_respostas[:, 13])"
   ],
   "metadata": {
    "collapsed": false,
    "pycharm": {
     "name": "#%%\n"
    }
   }
  },
  {
   "cell_type": "code",
   "execution_count": 10,
   "outputs": [
    {
     "data": {
      "text/plain": "array([[1, 2, 1, ..., 2, 1, 2],\n       [1, 2, 1, ..., 2, 1, 0],\n       [0, 2, 2, ..., 2, 1, 1],\n       ...,\n       [2, 2, 2, ..., 1, 1, 2],\n       [2, 2, 2, ..., 1, 1, 2],\n       [1, 2, 1, ..., 2, 0, 1]], dtype=object)"
     },
     "execution_count": 10,
     "metadata": {},
     "output_type": "execute_result"
    }
   ],
   "source": [
    "x_respostas"
   ],
   "metadata": {
    "collapsed": false,
    "pycharm": {
     "name": "#%%\n"
    }
   }
  },
  {
   "cell_type": "code",
   "execution_count": 11,
   "outputs": [],
   "source": [
    "x_teste[:, 0] = label_encoder_handicapped.fit_transform(x_teste[:, 0])\n",
    "x_teste[:, 1] = label_encoder_water.fit_transform(x_teste[:, 1])\n",
    "x_teste[:, 2] = label_encoder_adoption.fit_transform(x_teste[:, 2])\n",
    "x_teste[:, 3] = label_encoder_physician.fit_transform(x_teste[:, 3])\n",
    "x_teste[:, 4] = label_encoder_religious.fit_transform(x_teste[:, 4])\n",
    "x_teste[:, 5] = label_encoder_anti.fit_transform(x_teste[:, 5])\n",
    "x_teste[:, 6] = label_encoder_mx.fit_transform(x_teste[:, 6])\n",
    "x_teste[:, 7] = label_encoder_immigration.fit_transform(x_teste[:, 7])\n",
    "x_teste[:, 8] = label_encoder_synfuels.fit_transform(x_teste[:, 8])\n",
    "x_teste[:, 9] = label_encoder_education.fit_transform(x_teste[:, 9])\n",
    "x_teste[:, 10] = label_encoder_superfund.fit_transform(x_teste[:, 10])\n",
    "x_teste[:, 11] = label_encoder_crime.fit_transform(x_teste[:, 11])\n",
    "x_teste[:, 12] = label_encoder_duty.fit_transform(x_teste[:, 12])\n",
    "x_teste[:, 13] = label_encoder_export.fit_transform(x_teste[:, 13])"
   ],
   "metadata": {
    "collapsed": false,
    "pycharm": {
     "name": "#%%\n"
    }
   }
  },
  {
   "cell_type": "code",
   "execution_count": 12,
   "outputs": [
    {
     "data": {
      "text/plain": "array([[1, 2, 1, 0, 1, 2, 2, 1, 1, 1, 1, 0, 0, 2],\n       [1, 2, 0, 1, 2, 1, 1, 2, 1, 1, 2, 1, 0, 2],\n       [0, 2, 1, 0, 2, 2, 0, 2, 1, 1, 1, 0, 0, 2],\n       [1, 2, 1, 1, 2, 2, 1, 2, 1, 1, 2, 1, 0, 2],\n       [1, 2, 1, 0, 1, 2, 2, 1, 1, 1, 1, 0, 0, 2],\n       [0, 1, 0, 1, 2, 2, 1, 2, 1, 2, 2, 1, 0, 2],\n       [0, 2, 1, 0, 2, 2, 1, 1, 2, 1, 2, 0, 1, 2],\n       [0, 1, 0, 1, 2, 1, 1, 1, 1, 2, 2, 1, 0, 1],\n       [0, 1, 1, 0, 2, 2, 2, 1, 2, 1, 1, 0, 1, 2],\n       [0, 1, 0, 1, 2, 1, 1, 1, 2, 2, 2, 1, 0, 2],\n       [0, 2, 1, 0, 2, 2, 2, 1, 2, 1, 1, 1, 1, 2],\n       [0, 1, 0, 1, 2, 1, 1, 2, 1, 2, 2, 1, 0, 2],\n       [0, 2, 1, 0, 0, 2, 2, 2, 2, 1, 0, 1, 1, 2],\n       [1, 2, 1, 1, 2, 2, 1, 2, 0, 0, 0, 1, 0, 2],\n       [0, 1, 1, 0, 1, 2, 1, 2, 2, 1, 1, 0, 1, 0],\n       [0, 1, 1, 1, 2, 1, 2, 2, 1, 2, 2, 1, 0, 2],\n       [1, 1, 1, 0, 1, 2, 2, 2, 1, 1, 1, 0, 1, 2],\n       [0, 0, 0, 1, 2, 1, 1, 1, 2, 2, 2, 1, 0, 2],\n       [0, 1, 1, 0, 1, 2, 2, 2, 1, 1, 1, 0, 0, 2],\n       [0, 1, 0, 1, 2, 0, 0, 0, 1, 2, 2, 1, 0, 2]], dtype=object)"
     },
     "execution_count": 12,
     "metadata": {},
     "output_type": "execute_result"
    }
   ],
   "source": [
    "x_teste"
   ],
   "metadata": {
    "collapsed": false,
    "pycharm": {
     "name": "#%%\n"
    }
   }
  },
  {
   "cell_type": "code",
   "execution_count": 13,
   "outputs": [
    {
     "data": {
      "text/plain": "GaussianNB()",
      "text/html": "<style>#sk-container-id-1 {color: black;background-color: white;}#sk-container-id-1 pre{padding: 0;}#sk-container-id-1 div.sk-toggleable {background-color: white;}#sk-container-id-1 label.sk-toggleable__label {cursor: pointer;display: block;width: 100%;margin-bottom: 0;padding: 0.3em;box-sizing: border-box;text-align: center;}#sk-container-id-1 label.sk-toggleable__label-arrow:before {content: \"▸\";float: left;margin-right: 0.25em;color: #696969;}#sk-container-id-1 label.sk-toggleable__label-arrow:hover:before {color: black;}#sk-container-id-1 div.sk-estimator:hover label.sk-toggleable__label-arrow:before {color: black;}#sk-container-id-1 div.sk-toggleable__content {max-height: 0;max-width: 0;overflow: hidden;text-align: left;background-color: #f0f8ff;}#sk-container-id-1 div.sk-toggleable__content pre {margin: 0.2em;color: black;border-radius: 0.25em;background-color: #f0f8ff;}#sk-container-id-1 input.sk-toggleable__control:checked~div.sk-toggleable__content {max-height: 200px;max-width: 100%;overflow: auto;}#sk-container-id-1 input.sk-toggleable__control:checked~label.sk-toggleable__label-arrow:before {content: \"▾\";}#sk-container-id-1 div.sk-estimator input.sk-toggleable__control:checked~label.sk-toggleable__label {background-color: #d4ebff;}#sk-container-id-1 div.sk-label input.sk-toggleable__control:checked~label.sk-toggleable__label {background-color: #d4ebff;}#sk-container-id-1 input.sk-hidden--visually {border: 0;clip: rect(1px 1px 1px 1px);clip: rect(1px, 1px, 1px, 1px);height: 1px;margin: -1px;overflow: hidden;padding: 0;position: absolute;width: 1px;}#sk-container-id-1 div.sk-estimator {font-family: monospace;background-color: #f0f8ff;border: 1px dotted black;border-radius: 0.25em;box-sizing: border-box;margin-bottom: 0.5em;}#sk-container-id-1 div.sk-estimator:hover {background-color: #d4ebff;}#sk-container-id-1 div.sk-parallel-item::after {content: \"\";width: 100%;border-bottom: 1px solid gray;flex-grow: 1;}#sk-container-id-1 div.sk-label:hover label.sk-toggleable__label {background-color: #d4ebff;}#sk-container-id-1 div.sk-serial::before {content: \"\";position: absolute;border-left: 1px solid gray;box-sizing: border-box;top: 0;bottom: 0;left: 50%;z-index: 0;}#sk-container-id-1 div.sk-serial {display: flex;flex-direction: column;align-items: center;background-color: white;padding-right: 0.2em;padding-left: 0.2em;position: relative;}#sk-container-id-1 div.sk-item {position: relative;z-index: 1;}#sk-container-id-1 div.sk-parallel {display: flex;align-items: stretch;justify-content: center;background-color: white;position: relative;}#sk-container-id-1 div.sk-item::before, #sk-container-id-1 div.sk-parallel-item::before {content: \"\";position: absolute;border-left: 1px solid gray;box-sizing: border-box;top: 0;bottom: 0;left: 50%;z-index: -1;}#sk-container-id-1 div.sk-parallel-item {display: flex;flex-direction: column;z-index: 1;position: relative;background-color: white;}#sk-container-id-1 div.sk-parallel-item:first-child::after {align-self: flex-end;width: 50%;}#sk-container-id-1 div.sk-parallel-item:last-child::after {align-self: flex-start;width: 50%;}#sk-container-id-1 div.sk-parallel-item:only-child::after {width: 0;}#sk-container-id-1 div.sk-dashed-wrapped {border: 1px dashed gray;margin: 0 0.4em 0.5em 0.4em;box-sizing: border-box;padding-bottom: 0.4em;background-color: white;}#sk-container-id-1 div.sk-label label {font-family: monospace;font-weight: bold;display: inline-block;line-height: 1.2em;}#sk-container-id-1 div.sk-label-container {text-align: center;}#sk-container-id-1 div.sk-container {/* jupyter's `normalize.less` sets `[hidden] { display: none; }` but bootstrap.min.css set `[hidden] { display: none !important; }` so we also need the `!important` here to be able to override the default hidden behavior on the sphinx rendered scikit-learn.org. See: https://github.com/scikit-learn/scikit-learn/issues/21755 */display: inline-block !important;position: relative;}#sk-container-id-1 div.sk-text-repr-fallback {display: none;}</style><div id=\"sk-container-id-1\" class=\"sk-top-container\"><div class=\"sk-text-repr-fallback\"><pre>GaussianNB()</pre><b>In a Jupyter environment, please rerun this cell to show the HTML representation or trust the notebook. <br />On GitHub, the HTML representation is unable to render, please try loading this page with nbviewer.org.</b></div><div class=\"sk-container\" hidden><div class=\"sk-item\"><div class=\"sk-estimator sk-toggleable\"><input class=\"sk-toggleable__control sk-hidden--visually\" id=\"sk-estimator-id-1\" type=\"checkbox\" checked><label for=\"sk-estimator-id-1\" class=\"sk-toggleable__label sk-toggleable__label-arrow\">GaussianNB</label><div class=\"sk-toggleable__content\"><pre>GaussianNB()</pre></div></div></div></div></div>"
     },
     "execution_count": 13,
     "metadata": {},
     "output_type": "execute_result"
    }
   ],
   "source": [
    "naive_respostas = GaussianNB()\n",
    "naive_respostas.fit(x_respostas, y_respostas)"
   ],
   "metadata": {
    "collapsed": false,
    "pycharm": {
     "name": "#%%\n"
    }
   }
  },
  {
   "cell_type": "code",
   "execution_count": 14,
   "outputs": [],
   "source": [
    "previsao = naive_respostas.predict(x_teste)"
   ],
   "metadata": {
    "collapsed": false,
    "pycharm": {
     "name": "#%%\n"
    }
   }
  },
  {
   "cell_type": "code",
   "execution_count": 15,
   "outputs": [
    {
     "data": {
      "text/plain": "array(['democrat', 'republican', 'democrat', 'democrat', 'democrat',\n       'republican', 'democrat', 'republican', 'democrat', 'republican',\n       'democrat', 'republican', 'democrat', 'democrat', 'democrat',\n       'democrat', 'democrat', 'republican', 'democrat', 'republican'],\n      dtype='<U10')"
     },
     "execution_count": 15,
     "metadata": {},
     "output_type": "execute_result"
    }
   ],
   "source": [
    "previsao"
   ],
   "metadata": {
    "collapsed": false,
    "pycharm": {
     "name": "#%%\n"
    }
   }
  },
  {
   "cell_type": "code",
   "execution_count": 16,
   "outputs": [],
   "source": [
    "probabilidade = naive_respostas.predict_proba(x_teste)"
   ],
   "metadata": {
    "collapsed": false,
    "pycharm": {
     "name": "#%%\n"
    }
   }
  },
  {
   "cell_type": "code",
   "execution_count": 17,
   "outputs": [
    {
     "data": {
      "text/plain": "array([[1.00000000e+00, 1.94254186e-12],\n       [1.34231571e-01, 8.65768429e-01],\n       [1.00000000e+00, 1.44739232e-10],\n       [9.42932529e-01, 5.70674708e-02],\n       [1.00000000e+00, 1.94254186e-12],\n       [1.22325961e-01, 8.77674039e-01],\n       [9.99999999e-01, 6.71338333e-10],\n       [2.23802784e-02, 9.77619722e-01],\n       [1.00000000e+00, 2.50655523e-12],\n       [1.95843371e-01, 8.04156629e-01],\n       [1.00000000e+00, 2.99672064e-10],\n       [1.59951936e-02, 9.84004806e-01],\n       [1.00000000e+00, 6.22177610e-15],\n       [9.99496806e-01, 5.03193905e-04],\n       [1.00000000e+00, 3.89217275e-12],\n       [8.99276061e-01, 1.00723939e-01],\n       [1.00000000e+00, 3.62274171e-12],\n       [1.81793730e-01, 8.18206270e-01],\n       [1.00000000e+00, 1.57364807e-12],\n       [6.41431455e-02, 9.35856855e-01]])"
     },
     "execution_count": 17,
     "metadata": {},
     "output_type": "execute_result"
    }
   ],
   "source": [
    "probabilidade"
   ],
   "metadata": {
    "collapsed": false,
    "pycharm": {
     "name": "#%%\n"
    }
   }
  },
  {
   "cell_type": "markdown",
   "source": [
    "### Criação do ranking de Republicanos\n",
    "- Por meio da matriz probabilidade, os dados foram manipulados para criar a sequência decrescente com base em sua probabilidade de ser republicano"
   ],
   "metadata": {
    "collapsed": false,
    "pycharm": {
     "name": "#%% md\n"
    }
   }
  },
  {
   "cell_type": "code",
   "execution_count": 43,
   "outputs": [
    {
     "name": "stdout",
     "output_type": "stream",
     "text": [
      "(112, 108, 120, 106, 102, 118, 110, 116, 104, 114, 107, 111, 103, 115, 117, 109, 105, 101, 119, 113)\n"
     ]
    }
   ],
   "source": [
    "# listas auxiliares para a criação do ranking\n",
    "index=[]\n",
    "prob_republic=[]\n",
    "for i in range(20):\n",
    "    index.append(101 +i)\n",
    "    prob_republic.append(probabilidade[i][1])\n",
    "republican_value = list(zip(prob_republic,index))\n",
    "republican_ranking = sorted(republican_value, reverse=True)\n",
    "prob_ranking,id_ranking =zip(*republican_ranking)\n",
    "# lista vai do maior para o menor na probabilidade de ser republicano\n",
    "print(id_ranking)"
   ],
   "metadata": {
    "collapsed": false,
    "pycharm": {
     "name": "#%%\n"
    }
   }
  }
 ],
 "metadata": {
  "kernelspec": {
   "display_name": "Python 3",
   "language": "python",
   "name": "python3"
  },
  "language_info": {
   "codemirror_mode": {
    "name": "ipython",
    "version": 2
   },
   "file_extension": ".py",
   "mimetype": "text/x-python",
   "name": "python",
   "nbconvert_exporter": "python",
   "pygments_lexer": "ipython2",
   "version": "2.7.6"
  }
 },
 "nbformat": 4,
 "nbformat_minor": 0
}